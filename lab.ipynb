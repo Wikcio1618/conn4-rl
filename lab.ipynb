{
 "cells": [
  {
   "cell_type": "code",
   "execution_count": 1,
   "metadata": {},
   "outputs": [
    {
     "name": "stdout",
     "output_type": "stream",
     "text": [
      "Using device: cpu\n"
     ]
    }
   ],
   "source": [
    "import torch\n",
    "device = torch.device(\"cuda\" if torch.cuda.is_available() else \"cpu\")\n",
    "print(f\"Using device: {device}\")"
   ]
  },
  {
   "cell_type": "code",
   "execution_count": null,
   "metadata": {},
   "outputs": [],
   "source": [
    "try:\n",
    "    import google.colab  # Check if running in Google Colab\n",
    "    IN_COLAB = True\n",
    "except ImportError:\n",
    "    IN_COLAB = False\n",
    "\n",
    "if IN_COLAB:\n",
    "    # Only execute in Colab\n",
    "    print(\"Running in Google Colab\")\n",
    "    !git clone https://github.com/Wikcio1618/conn4-rl.git\n",
    "    %cd conn4-rl\n",
    "else:\n",
    "    # Local execution\n",
    "    print(\"Running locally, not in Colab.\")"
   ]
  },
  {
   "cell_type": "markdown",
   "metadata": {},
   "source": [
    "# Hyper Parameters"
   ]
  },
  {
   "cell_type": "code",
   "execution_count": 2,
   "metadata": {},
   "outputs": [],
   "source": [
    "import torch.nn as nn\n",
    "\n",
    "# TODO fine tune\n",
    "eps = 1\n",
    "eps_min = 0.1\n",
    "eps_decay = 0.999997\n",
    "epochs = 10**6\n",
    "batch_size = 64\n",
    "train_freq = 1\n",
    "target_update_freq = 300\n",
    "eval_freq = 10\n",
    "checkpoint_freq = epochs // 10\n",
    "gamma = 0.98\n",
    "lr = 1e-5"
   ]
  },
  {
   "cell_type": "markdown",
   "metadata": {},
   "source": [
    "# Initialize Models"
   ]
  },
  {
   "cell_type": "code",
   "execution_count": 3,
   "metadata": {},
   "outputs": [],
   "source": [
    "from typing import List\n",
    "from agents.agent import Agent\n",
    "from agents.learning_agent import LearningAgent\n",
    "from agents.random_agent import RandomAgent\n",
    "from model import ConnectFourNN\n",
    "from replay_buffer import ReplayBuffer\n",
    "import torch.optim as optim\n",
    "\n",
    "num_learning_agents = 2\n",
    "\n",
    "main_models: List[Agent] = [ConnectFourNN().to(device) for _ in range(num_learning_agents)]\n",
    "\n",
    "target_models: List[Agent] = [ConnectFourNN().to(device) for _ in range(num_learning_agents)]\n",
    "for i, model in enumerate(target_models):\n",
    "    model.eval()\n",
    "    model.load_state_dict(main_models[i].state_dict())\n",
    "\n",
    "replay_buffers:List[ReplayBuffer] = [ReplayBuffer() for _ in range(num_learning_agents)]\n",
    "\n",
    "optimizers: List = [optim.Adam(main_models[i].parameters(), lr=lr) for i in range(num_learning_agents)]\n",
    "\n",
    "agents = [LearningAgent(main_models[i], target_models[i], replay_buffers[i], optimizers[i], eps=eps, device=device) for i in range(num_learning_agents)]\n",
    "agents.append(RandomAgent())"
   ]
  },
  {
   "cell_type": "markdown",
   "metadata": {},
   "source": [
    "# Training Loop"
   ]
  },
  {
   "cell_type": "code",
   "execution_count": 4,
   "metadata": {},
   "outputs": [
    {
     "name": "stderr",
     "output_type": "stream",
     "text": [
      "  7%|▋         | 70725/1000000 [9:04:59<120:26:06,  2.14it/s]"
     ]
    }
   ],
   "source": [
    "from datetime import datetime\n",
    "import itertools\n",
    "import random\n",
    "from tqdm import tqdm\n",
    "import matplotlib.pyplot as plt\n",
    "\n",
    "from game import Game\n",
    "\n",
    "losses = [[] for i in range(num_learning_agents)]\n",
    "times = []\n",
    "EPS = []\n",
    "results = []\n",
    "eval_times = []\n",
    "eval_scores1 = [], []\n",
    "eval_qval1 = []\n",
    "eval_qval2  = []\n",
    "eval_qval3 = []\n",
    "\n",
    "for t in tqdm(range(epochs)):\n",
    "    for pair in itertools.combinations(agents, 2):\n",
    "        # makes sure players play on both sides\n",
    "        pair = list(pair)\n",
    "        random.shuffle(pair)\n",
    "        Game.play_exp_game(pair)\n",
    "\n",
    "    if not (t+1) % train_freq:\n",
    "        times.append(t)\n",
    "        EPS.append(eps)\n",
    "        for i, agent in enumerate(agents):\n",
    "            if isinstance(agent, LearningAgent):\n",
    "                loss = agent.train_step(batch_size, gamma)\n",
    "                losses[i].append(loss)\n",
    "\n",
    "    if not (t+1) % target_update_freq:\n",
    "        for agent in agents:\n",
    "            if isinstance(agent, LearningAgent):\n",
    "                agent.update_target_model()\n",
    "\n",
    "    if not (t+1) % eval_freq:\n",
    "        # eval_times.append(t)\n",
    "        # # eval_scores1.append(play_eval_game(agent1, num_games=20))\n",
    "        # q_val = get_action_qval(main_model, device=device)\n",
    "        # eval_qval1.append(q_val[0])\n",
    "        # eval_qval2.append(q_val[1])\n",
    "        # eval_qval3.append(q_val[2])\n",
    "        pass\n",
    "\n",
    "    if not (t+1) % checkpoint_freq:\n",
    "        stamp = datetime.now().strftime(\"%d%m%y-%H%M%S\")\n",
    "        for i, agent in enumerate(agents):\n",
    "            if isinstance(agent, LearningAgent):   \n",
    "                path = rf'logs/cp{(t+1)//checkpoint_freq}_agent{i}_{stamp}.pth'     \n",
    "                torch.save(main_models, path)\n",
    "\n",
    "        plt.figure(figsize=(16, 6))\n",
    "        # plt.subplot(211)\n",
    "        for i, agent in enumerate(agents):\n",
    "            if isinstance(agent, LearningAgent):  \n",
    "                plt.plot(times, losses[i], linewidth=1)\n",
    "        plt.xlabel(\"epoch\")\n",
    "        plt.ylabel(\"Loss\")\n",
    "        plt.grid()\n",
    "        ax2 = plt.twinx()\n",
    "        ax2.plot(times, EPS, 'r-', label='eps')\n",
    "        ax2.legend()\n",
    "        plt.title(f't={t} lr={lr:.0e} eps_decay={eps_decay} f_t={train_freq} f_c={target_update_freq} bs={batch_size}')\n",
    "\n",
    "        # plt.subplot(212)\n",
    "        # plt.plot(eval_times, eval_qval1, 'o-', markersize=3, label=f'state 1')\n",
    "        # plt.plot(eval_times, eval_qval2, 'o-', markersize=3, label=f'state 2')\n",
    "        # plt.plot(eval_times, eval_qval3, 'o-', markersize=3, label=f'state 3')\n",
    "        # plt.xlabel('time')\n",
    "        # plt.ylabel('Q-val')\n",
    "        # plt.legend()\n",
    "        # plt.grid()\n",
    "        plt.show()\n",
    "\n",
    "    if eps > eps_min:\n",
    "        eps *= eps_decay"
   ]
  }
 ],
 "metadata": {
  "kernelspec": {
   "display_name": "base",
   "language": "python",
   "name": "python3"
  },
  "language_info": {
   "codemirror_mode": {
    "name": "ipython",
    "version": 3
   },
   "file_extension": ".py",
   "mimetype": "text/x-python",
   "name": "python",
   "nbconvert_exporter": "python",
   "pygments_lexer": "ipython3",
   "version": "3.11.8"
  }
 },
 "nbformat": 4,
 "nbformat_minor": 2
}
