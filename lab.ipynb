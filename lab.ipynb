{
 "cells": [
  {
   "cell_type": "markdown",
   "metadata": {},
   "source": [
    "### play game func"
   ]
  },
  {
   "cell_type": "code",
   "execution_count": 8,
   "metadata": {},
   "outputs": [
    {
     "ename": "SyntaxError",
     "evalue": "expected ':' (3989137190.py, line 116)",
     "output_type": "error",
     "traceback": [
      "\u001b[1;36m  Cell \u001b[1;32mIn[8], line 116\u001b[1;36m\u001b[0m\n\u001b[1;33m    elif reward == board.draw_reward\u001b[0m\n\u001b[1;37m                                    ^\u001b[0m\n\u001b[1;31mSyntaxError\u001b[0m\u001b[1;31m:\u001b[0m expected ':'\n"
     ]
    }
   ],
   "source": [
    "import numpy as np\n",
    "import torch\n",
    "from board import Board\n",
    "from model import ConnectFourNN\n",
    "\n",
    "def select_action(state, model:ConnectFourNN, epsilon):\n",
    "    \"\"\"\n",
    "    Returns: col, reward\\n\n",
    "    a move chosen with eps-greedy policy and punishment for illegal moves \n",
    "    \"\"\"\n",
    "    reward = 0\n",
    "    if np.random.rand() < epsilon:\n",
    "        valid_moves = []\n",
    "        for i in range(state.shape[1]):\n",
    "            if state[0][i] == 0:\n",
    "                valid_moves.append(i)\n",
    "        return np.random.choice(valid_moves), reward\n",
    "    else:\n",
    "        with torch.no_grad():\n",
    "            model.eval()\n",
    "            state_tensor = torch.tensor(state, dtype=torch.float32).unsqueeze(0).unsqueeze(0)\n",
    "            action_sorted = model(state_tensor).argsort(descending=True)\n",
    "            for col in action_sorted[0]:\n",
    "                if state[0][col] == 0:\n",
    "                    return col, reward\n",
    "                reward -= 0.15\n",
    "\n",
    "def play_exp_game(yellow_model, red_model, eps) -> tuple:\n",
    "    \"\"\"\n",
    "    # Returns:\n",
    "    2 lists of experiences - yellow, red\n",
    "    \"\"\"\n",
    "\n",
    "    board = Board()\n",
    "    start_player = 1\n",
    "    curr_player = start_player\n",
    "    done = False\n",
    "\n",
    "    states = []\n",
    "    actions = []\n",
    "    rewards = []\n",
    "    next_states = []\n",
    "\n",
    "    while not done:\n",
    "        if curr_player == 1:\n",
    "            main_model = yellow_model\n",
    "        elif curr_player == 2:\n",
    "            main_model = red_model\n",
    "\n",
    "        state = board.pieces.copy()\n",
    "        action, action_reward = select_action(state = state, model = main_model, epsilon = eps)\n",
    "        next_state, board_reward, done = board.drop_piece(action, curr_player)\n",
    "        reward = action_reward + board_reward\n",
    "\n",
    "        # update previous player if he lost or drew\n",
    "        if board_reward == board.win_reward:\n",
    "            rewards[-1] += -board.win_reward\n",
    "        elif board_reward == board.draw_reward:\n",
    "            rewards[-1] += board.draw_reward\n",
    "\n",
    "        next_states.append(next_state)\n",
    "        actions.append(action)\n",
    "        rewards.append(reward)\n",
    "        states.append(state)\n",
    "\n",
    "        curr_player = 3 - curr_player\n",
    "\n",
    "    yellow_exp_list, red_exp_list = [], []\n",
    "    for i in range(len(rewards)):\n",
    "        if not i%2:\n",
    "            yellow_exp_list.append((states[i], actions[i], rewards[i], next_states[i]))\n",
    "        else:\n",
    "            red_exp_list.append((states[i], actions[i], rewards[i], next_states[i]))\n",
    "\n",
    "    return yellow_exp_list, red_exp_list\n",
    "\n",
    "\n",
    "def play_eval_game(model, test_model, mask_moves = False) -> int:\n",
    "    \"\"\"\n",
    "    mask_moves: bool\n",
    "     if `True` model is allowed to choose valid action\\n\n",
    "     if `False` model loses when choosing invalid action \n",
    "    # Returns:\n",
    "    `1` - model win \\n\n",
    "    `0` - draw \\n\n",
    "    `-1` - test_model win \\n\n",
    "    \"\"\"\n",
    "    \n",
    "    board = Board()\n",
    "    start_player = 1\n",
    "    curr_player = start_player\n",
    "    done = False\n",
    "\n",
    "    while True:\n",
    "        if curr_player == 1:\n",
    "            curr_model = model\n",
    "        elif curr_player == 2:\n",
    "            curr_model = model\n",
    "\n",
    "        with torch.no_grad():\n",
    "            curr_model.eval()\n",
    "            action_sorted = curr_model(board.state).argsort(descending=True)\n",
    "            if mask_moves:\n",
    "                for col in action_sorted[0]:\n",
    "                    if board.is_valid_move(col):\n",
    "                        _, reward, _ = board.drop_piece()\n",
    "                    if not mask_moves:\n",
    "                        return -1 if curr_model == model else 1\n",
    "\n",
    "        if reward == board.win_reward:\n",
    "            return 1 if curr_model == model else -1\n",
    "        elif reward == -board.win_reward:\n",
    "            return 1 if curr_model == model else -1\n",
    "        elif reward == board.draw_reward:\n",
    "            return 0\n",
    "                \n",
    "        curr_player = 3 - curr_player"
   ]
  },
  {
   "cell_type": "markdown",
   "metadata": {},
   "source": [
    "### Train step func"
   ]
  },
  {
   "cell_type": "code",
   "execution_count": 2,
   "metadata": {},
   "outputs": [],
   "source": [
    "import random\n",
    "import torch.nn as nn\n",
    "\n",
    "def train_step(main_model, target_model, optimizer, replay_buffer, gamma, batch_size, loss_class):\n",
    "    if len(replay_buffer) < batch_size:\n",
    "        return 0\n",
    "    \n",
    "    main_model.train()\n",
    "\n",
    "    batch = replay_buffer.sample(batch_size)\n",
    "    states, actions, rewards, next_states = zip(*batch)\n",
    "\n",
    "    states = torch.tensor(np.array(states), dtype=torch.float32).unsqueeze(1)\n",
    "    actions = torch.tensor(np.array(actions), dtype=torch.int64).unsqueeze(1)\n",
    "    rewards = torch.tensor(np.array(rewards), dtype=torch.float32)\n",
    "    next_states = torch.tensor(np.array(next_states), dtype=torch.float32).unsqueeze(1)\n",
    "\n",
    "    q_values = main_model(states).gather(1, actions).squeeze()\n",
    "\n",
    "    next_q_values = target_model(next_states).max(1)[0]\n",
    "    target_q_values = rewards + gamma * next_q_values * (rewards == 0)\n",
    "\n",
    "    loss = loss_class()(q_values, target_q_values)\n",
    "\n",
    "    optimizer.zero_grad()\n",
    "    loss.backward()\n",
    "    optimizer.step()\n",
    "\n",
    "    return loss.detach().numpy()"
   ]
  },
  {
   "cell_type": "markdown",
   "metadata": {},
   "source": [
    "# Hyper Parameters"
   ]
  },
  {
   "cell_type": "code",
   "execution_count": 3,
   "metadata": {},
   "outputs": [],
   "source": [
    "import torch.nn as nn\n",
    "\n",
    "# TODO fine tune\n",
    "eps = 1\n",
    "eps_min = 0.01\n",
    "eps_decay = 0.99995\n",
    "epochs = 10**5\n",
    "batch_size = 64\n",
    "train_freq = 1\n",
    "target_update_freq = 50\n",
    "checkpoint_freq = 10**4\n",
    "gamma = 0.98\n",
    "lr = 3e-3\n",
    "\n",
    "# TODO TEST OTHER\n",
    "# loss_class = nn.MSELoss\n",
    "loss_class = nn.HuberLoss\n"
   ]
  },
  {
   "cell_type": "markdown",
   "metadata": {},
   "source": [
    "# Initialize Models"
   ]
  },
  {
   "cell_type": "code",
   "execution_count": 4,
   "metadata": {},
   "outputs": [],
   "source": [
    "from model import ConnectFourNN\n",
    "from replay_buffer import ReplayBuffer\n",
    "import torch.optim as optim\n",
    "\n",
    "\"\"\"\n",
    "player 1 - yellow\n",
    "player 2 - red\n",
    "\"\"\"\n",
    "\n",
    "def initialize_weights_he(m):\n",
    "    if isinstance(m, nn.Conv2d) or isinstance(m, nn.Linear):\n",
    "        nn.init.kaiming_normal_(m.weight, mode='fan_out', nonlinearity='relu')\n",
    "        if m.bias is not None:\n",
    "            nn.init.constant_(m.bias, 0)\n",
    "\n",
    "# YELLOW INIT\n",
    "\n",
    "yellow_main_model = ConnectFourNN()\n",
    "yellow_main_model.apply(initialize_weights_he)\n",
    "\n",
    "yellow_target_model = ConnectFourNN()\n",
    "yellow_target_model.load_state_dict(yellow_main_model.state_dict())\n",
    "yellow_target_model.eval()\n",
    "\n",
    "yellow_replay_buffer = ReplayBuffer()\n",
    "\n",
    "yellow_optimizer = optim.Adam(yellow_main_model.parameters(), lr = lr)\n",
    "\n",
    "\n",
    "# RED INIT\n",
    "\n",
    "red_main_model = ConnectFourNN()\n",
    "red_main_model.apply(initialize_weights_he)\n",
    "\n",
    "red_target_model = ConnectFourNN()\n",
    "red_target_model.load_state_dict(red_main_model.state_dict())\n",
    "red_target_model.eval()\n",
    "\n",
    "red_replay_buffer = ReplayBuffer()\n",
    "\n",
    "red_optimizer = optim.Adam(red_main_model.parameters(), lr = lr)"
   ]
  },
  {
   "cell_type": "markdown",
   "metadata": {},
   "source": [
    "# Training Loop"
   ]
  },
  {
   "cell_type": "code",
   "execution_count": 5,
   "metadata": {},
   "outputs": [
    {
     "name": "stderr",
     "output_type": "stream",
     "text": [
      "  0%|          | 0/100000 [00:00<?, ?it/s]c:\\Users\\cp\\anaconda3\\Lib\\site-packages\\torch\\autograd\\__init__.py:251: UserWarning: CUDA initialization: The NVIDIA driver on your system is too old (found version 9010). Please update your GPU driver by downloading and installing a new version from the URL: http://www.nvidia.com/Download/index.aspx Alternatively, go to: https://pytorch.org to install a PyTorch version that has been compiled with your version of the CUDA driver. (Triggered internally at C:\\cb\\pytorch_1000000000000\\work\\c10\\cuda\\CUDAFunctions.cpp:108.)\n",
      "  Variable._execution_engine.run_backward(  # Calls into the C++ engine to run the backward pass\n",
      "100%|██████████| 100000/100000 [6:50:00<00:00,  4.07it/s]  \n"
     ]
    },
    {
     "data": {
      "text/plain": [
       "Text(0.5, 1.0, 'lr=3e-03 eps_decay=0.99995 f_t=1 f_c=50 bs=64')"
      ]
     },
     "execution_count": 5,
     "metadata": {},
     "output_type": "execute_result"
    },
    {
     "data": {
      "image/png": "[encoded data removed]",
      "text/plain": [
       "<Figure size 640x480 with 2 Axes>"
      ]
     },
     "metadata": {},
     "output_type": "display_data"
    }
   ],
   "source": [
    "from datetime import datetime\n",
    "import random\n",
    "from tqdm import tqdm\n",
    "import matplotlib.pyplot as plt\n",
    "\n",
    "losses = []\n",
    "times = []\n",
    "EPS = []\n",
    "\n",
    "for t in tqdm(range(epochs)):\n",
    "    yellow_experience, red_experience = play_exp_game(yellow_main_model, red_main_model, eps)\n",
    "    \n",
    "    yellow_replay_buffer.extend(yellow_experience)\n",
    "    red_replay_buffer.extend(red_experience)\n",
    "\n",
    "    if not t % train_freq:\n",
    "        loss = train_step(yellow_main_model, yellow_target_model, yellow_optimizer, yellow_replay_buffer, gamma, batch_size, loss_class)\n",
    "        loss = train_step(red_main_model, red_target_model, red_optimizer, red_replay_buffer, gamma, batch_size, loss_class)\n",
    "\n",
    "        times.append(t)\n",
    "        losses.append(loss)\n",
    "        EPS.append(eps)\n",
    "\n",
    "    if not t % target_update_freq:\n",
    "        yellow_target_model.load_state_dict(yellow_main_model.state_dict())\n",
    "        red_target_model.load_state_dict(red_main_model.state_dict())\n",
    "\n",
    "    if not t % checkpoint_freq and t != 0:\n",
    "        stamp = datetime.now().strftime(\"%d%m%y-%H%M%S\")\n",
    "        yellow_path = rf'models/yel_cp{t//checkpoint_freq}_{stamp}.pth'\n",
    "        red_path = rf'models/red_cp{t//checkpoint_freq}_{stamp}.pth'\n",
    "        torch.save(yellow_main_model, yellow_path)\n",
    "        torch.save(red_main_model, red_path)\n",
    "\n",
    "    eps = max(eps_min, eps_decay * eps)\n",
    "\n",
    "plt.plot(times, losses, 'b-')\n",
    "plt.xlabel(\"epoch\")\n",
    "plt.ylabel(\"Huber loss\")\n",
    "plt.grid()\n",
    "ax2 = plt.twinx()\n",
    "ax2.plot(times, EPS, 'r-')\n",
    "ax2.set_ylabel('epsilon')\n",
    "plt.title(f'lr={lr:.0e} eps_decay={eps_decay} f_t={train_freq} f_c={target_update_freq} bs={batch_size}')\n"
   ]
  },
  {
   "cell_type": "code",
   "execution_count": 6,
   "metadata": {},
   "outputs": [
    {
     "name": "stdout",
     "output_type": "stream",
     "text": [
      "0\n",
      "0\n",
      "0\n",
      "0\n",
      "0\n",
      "0\n",
      "0\n",
      "0\n",
      "0\n",
      "0\n",
      "0\n",
      "0\n",
      "0\n",
      "-1\n"
     ]
    }
   ],
   "source": [
    "y, r = play_exp_game(yellow_main_model, red_main_model, eps=0)\n",
    "for i in y:\n",
    "    print(i[2])\n",
    "\n",
    "# yellow_replay_buffer.extend(y)\n",
    "# red_replay_buffer.extend(r)"
   ]
  }
 ],
 "metadata": {
  "kernelspec": {
   "display_name": "base",
   "language": "python",
   "name": "python3"
  },
  "language_info": {
   "codemirror_mode": {
    "name": "ipython",
    "version": 3
   },
   "file_extension": ".py",
   "mimetype": "text/x-python",
   "name": "python",
   "nbconvert_exporter": "python",
   "pygments_lexer": "ipython3",
   "version": "3.11.8"
  }
 },
 "nbformat": 4,
 "nbformat_minor": 2
}
